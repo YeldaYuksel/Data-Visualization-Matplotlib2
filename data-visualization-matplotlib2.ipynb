{
 "cells": [
  {
   "cell_type": "markdown",
   "id": "66496f42",
   "metadata": {
    "papermill": {
     "duration": 0.00278,
     "end_time": "2024-09-11T13:20:28.293626",
     "exception": false,
     "start_time": "2024-09-11T13:20:28.290846",
     "status": "completed"
    },
    "tags": []
   },
   "source": [
    "**Labels**"
   ]
  },
  {
   "cell_type": "code",
   "execution_count": 1,
   "id": "ce4320b2",
   "metadata": {
    "execution": {
     "iopub.execute_input": "2024-09-11T13:20:28.300095Z",
     "iopub.status.busy": "2024-09-11T13:20:28.299667Z",
     "iopub.status.idle": "2024-09-11T13:20:30.456675Z",
     "shell.execute_reply": "2024-09-11T13:20:30.455556Z"
    },
    "papermill": {
     "duration": 2.16315,
     "end_time": "2024-09-11T13:20:30.459322",
     "exception": false,
     "start_time": "2024-09-11T13:20:28.296172",
     "status": "completed"
    },
    "tags": []
   },
   "outputs": [
    {
     "data": {
      "text/html": [
       "<div>\n",
       "<style scoped>\n",
       "    .dataframe tbody tr th:only-of-type {\n",
       "        vertical-align: middle;\n",
       "    }\n",
       "\n",
       "    .dataframe tbody tr th {\n",
       "        vertical-align: top;\n",
       "    }\n",
       "\n",
       "    .dataframe thead th {\n",
       "        text-align: right;\n",
       "    }\n",
       "</style>\n",
       "<table border=\"1\" class=\"dataframe\">\n",
       "  <thead>\n",
       "    <tr style=\"text-align: right;\">\n",
       "      <th></th>\n",
       "      <th>survived</th>\n",
       "      <th>pclass</th>\n",
       "      <th>sex</th>\n",
       "      <th>age</th>\n",
       "      <th>sibsp</th>\n",
       "      <th>parch</th>\n",
       "      <th>fare</th>\n",
       "      <th>embarked</th>\n",
       "      <th>class</th>\n",
       "      <th>who</th>\n",
       "      <th>adult_male</th>\n",
       "      <th>deck</th>\n",
       "      <th>embark_town</th>\n",
       "      <th>alive</th>\n",
       "      <th>alone</th>\n",
       "    </tr>\n",
       "  </thead>\n",
       "  <tbody>\n",
       "    <tr>\n",
       "      <th>0</th>\n",
       "      <td>0</td>\n",
       "      <td>3</td>\n",
       "      <td>male</td>\n",
       "      <td>22.0</td>\n",
       "      <td>1</td>\n",
       "      <td>0</td>\n",
       "      <td>7.2500</td>\n",
       "      <td>S</td>\n",
       "      <td>Third</td>\n",
       "      <td>man</td>\n",
       "      <td>True</td>\n",
       "      <td>NaN</td>\n",
       "      <td>Southampton</td>\n",
       "      <td>no</td>\n",
       "      <td>False</td>\n",
       "    </tr>\n",
       "    <tr>\n",
       "      <th>1</th>\n",
       "      <td>1</td>\n",
       "      <td>1</td>\n",
       "      <td>female</td>\n",
       "      <td>38.0</td>\n",
       "      <td>1</td>\n",
       "      <td>0</td>\n",
       "      <td>71.2833</td>\n",
       "      <td>C</td>\n",
       "      <td>First</td>\n",
       "      <td>woman</td>\n",
       "      <td>False</td>\n",
       "      <td>C</td>\n",
       "      <td>Cherbourg</td>\n",
       "      <td>yes</td>\n",
       "      <td>False</td>\n",
       "    </tr>\n",
       "    <tr>\n",
       "      <th>2</th>\n",
       "      <td>1</td>\n",
       "      <td>3</td>\n",
       "      <td>female</td>\n",
       "      <td>26.0</td>\n",
       "      <td>0</td>\n",
       "      <td>0</td>\n",
       "      <td>7.9250</td>\n",
       "      <td>S</td>\n",
       "      <td>Third</td>\n",
       "      <td>woman</td>\n",
       "      <td>False</td>\n",
       "      <td>NaN</td>\n",
       "      <td>Southampton</td>\n",
       "      <td>yes</td>\n",
       "      <td>True</td>\n",
       "    </tr>\n",
       "    <tr>\n",
       "      <th>3</th>\n",
       "      <td>1</td>\n",
       "      <td>1</td>\n",
       "      <td>female</td>\n",
       "      <td>35.0</td>\n",
       "      <td>1</td>\n",
       "      <td>0</td>\n",
       "      <td>53.1000</td>\n",
       "      <td>S</td>\n",
       "      <td>First</td>\n",
       "      <td>woman</td>\n",
       "      <td>False</td>\n",
       "      <td>C</td>\n",
       "      <td>Southampton</td>\n",
       "      <td>yes</td>\n",
       "      <td>False</td>\n",
       "    </tr>\n",
       "    <tr>\n",
       "      <th>4</th>\n",
       "      <td>0</td>\n",
       "      <td>3</td>\n",
       "      <td>male</td>\n",
       "      <td>35.0</td>\n",
       "      <td>0</td>\n",
       "      <td>0</td>\n",
       "      <td>8.0500</td>\n",
       "      <td>S</td>\n",
       "      <td>Third</td>\n",
       "      <td>man</td>\n",
       "      <td>True</td>\n",
       "      <td>NaN</td>\n",
       "      <td>Southampton</td>\n",
       "      <td>no</td>\n",
       "      <td>True</td>\n",
       "    </tr>\n",
       "  </tbody>\n",
       "</table>\n",
       "</div>"
      ],
      "text/plain": [
       "   survived  pclass     sex   age  sibsp  parch     fare embarked  class  \\\n",
       "0         0       3    male  22.0      1      0   7.2500        S  Third   \n",
       "1         1       1  female  38.0      1      0  71.2833        C  First   \n",
       "2         1       3  female  26.0      0      0   7.9250        S  Third   \n",
       "3         1       1  female  35.0      1      0  53.1000        S  First   \n",
       "4         0       3    male  35.0      0      0   8.0500        S  Third   \n",
       "\n",
       "     who  adult_male deck  embark_town alive  alone  \n",
       "0    man        True  NaN  Southampton    no  False  \n",
       "1  woman       False    C    Cherbourg   yes  False  \n",
       "2  woman       False  NaN  Southampton   yes   True  \n",
       "3  woman       False    C  Southampton   yes  False  \n",
       "4    man        True  NaN  Southampton    no   True  "
      ]
     },
     "execution_count": 1,
     "metadata": {},
     "output_type": "execute_result"
    }
   ],
   "source": [
    "import pandas as pd\n",
    "import seaborn as sns\n",
    "import matplotlib.pyplot as plt\n",
    "import numpy as np\n",
    "\n",
    "#df = sns.load_dataset(\"titanic\")\n",
    "df = pd.read_csv(\"/kaggle/input/titanic-dataset-csv/titanic.csv\")\n",
    "df.head()"
   ]
  },
  {
   "cell_type": "code",
   "execution_count": 2,
   "id": "a5fb945d",
   "metadata": {
    "execution": {
     "iopub.execute_input": "2024-09-11T13:20:30.466476Z",
     "iopub.status.busy": "2024-09-11T13:20:30.466062Z",
     "iopub.status.idle": "2024-09-11T13:20:30.778454Z",
     "shell.execute_reply": "2024-09-11T13:20:30.777291Z"
    },
    "papermill": {
     "duration": 0.318868,
     "end_time": "2024-09-11T13:20:30.781068",
     "exception": false,
     "start_time": "2024-09-11T13:20:30.462200",
     "status": "completed"
    },
    "tags": []
   },
   "outputs": [
    {
     "data": {
      "image/png": "[encoded data removed]",
      "text/plain": [
       "<Figure size 640x480 with 1 Axes>"
      ]
     },
     "metadata": {},
     "output_type": "display_data"
    }
   ],
   "source": [
    "x = np.array([1, 8])\n",
    "y = np.array([0, 150])\n",
    "plt.plot(x, y)\n",
    "plt.title(\"Title 1\")\n",
    "plt.xlabel(\"X axis name\")\n",
    "plt.ylabel(\"Y axis name\")\n",
    "plt.grid()\n",
    "plt.show()"
   ]
  },
  {
   "cell_type": "markdown",
   "id": "5378d525",
   "metadata": {
    "papermill": {
     "duration": 0.002646,
     "end_time": "2024-09-11T13:20:30.787220",
     "exception": false,
     "start_time": "2024-09-11T13:20:30.784574",
     "status": "completed"
    },
    "tags": []
   },
   "source": [
    "**Subplot**"
   ]
  },
  {
   "cell_type": "code",
   "execution_count": 3,
   "id": "6c64e997",
   "metadata": {
    "execution": {
     "iopub.execute_input": "2024-09-11T13:20:30.795078Z",
     "iopub.status.busy": "2024-09-11T13:20:30.794285Z",
     "iopub.status.idle": "2024-09-11T13:20:31.337491Z",
     "shell.execute_reply": "2024-09-11T13:20:31.336331Z"
    },
    "papermill": {
     "duration": 0.549863,
     "end_time": "2024-09-11T13:20:31.339961",
     "exception": false,
     "start_time": "2024-09-11T13:20:30.790098",
     "status": "completed"
    },
    "tags": []
   },
   "outputs": [
    {
     "data": {
      "image/png": "[encoded data removed]",
      "text/plain": [
       "<Figure size 640x480 with 3 Axes>"
      ]
     },
     "metadata": {},
     "output_type": "display_data"
    }
   ],
   "source": [
    "x = np.array([1, 8])\n",
    "y = np.array([0, 150])\n",
    "plt.subplot(1, 3, 1)\n",
    "plt.title(\"1\")\n",
    "plt.plot(x, y)\n",
    "\n",
    "x = np.array([1, 8])\n",
    "y = np.array([0, 150])\n",
    "plt.subplot(1, 3, 2)\n",
    "plt.title(\"2\")\n",
    "plt.plot(x, y)\n",
    "\n",
    "x = np.array([1, 8])\n",
    "y = np.array([0, 150])\n",
    "plt.subplot(1, 3, 3)\n",
    "plt.title(\"3\")\n",
    "plt.plot(x, y)\n",
    "plt.show()"
   ]
  }
 ],
 "metadata": {
  "kaggle": {
   "accelerator": "none",
   "dataSources": [
    {
     "datasetId": 5680736,
     "sourceId": 9367488,
     "sourceType": "datasetVersion"
    }
   ],
   "dockerImageVersionId": 30761,
   "isGpuEnabled": false,
   "isInternetEnabled": false,
   "language": "python",
   "sourceType": "notebook"
  },
  "kernelspec": {
   "display_name": "Python 3",
   "language": "python",
   "name": "python3"
  },
  "language_info": {
   "codemirror_mode": {
    "name": "ipython",
    "version": 3
   },
   "file_extension": ".py",
   "mimetype": "text/x-python",
   "name": "python",
   "nbconvert_exporter": "python",
   "pygments_lexer": "ipython3",
   "version": "3.10.14"
  },
  "papermill": {
   "default_parameters": {},
   "duration": 6.501598,
   "end_time": "2024-09-11T13:20:31.964624",
   "environment_variables": {},
   "exception": null,
   "input_path": "__notebook__.ipynb",
   "output_path": "__notebook__.ipynb",
   "parameters": {},
   "start_time": "2024-09-11T13:20:25.463026",
   "version": "2.6.0"
  }
 },
 "nbformat": 4,
 "nbformat_minor": 5
}
